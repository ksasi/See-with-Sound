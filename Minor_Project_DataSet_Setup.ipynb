{
 "cells": [
  {
   "cell_type": "code",
   "execution_count": 1,
   "metadata": {},
   "outputs": [],
   "source": [
    "from pathlib import Path\n",
    "from shutil import copy"
   ]
  },
  {
   "cell_type": "markdown",
   "metadata": {},
   "source": [
    "### Created Train, Probe and Gallery Folders"
   ]
  },
  {
   "cell_type": "code",
   "execution_count": 2,
   "metadata": {},
   "outputs": [],
   "source": [
    "!mkdir ./food-101-small/Train\n",
    "!mkdir ./food-101-small/Probe\n",
    "!mkdir ./food-101-small/Gallery"
   ]
  },
  {
   "cell_type": "markdown",
   "metadata": {},
   "source": [
    "### Split the dataset into Train, Probe and Gallery\n",
    "- Train contains 70 folders having respective food images & audio files\n",
    "- Probe contains audio files for remaining 30 food types\n",
    "- Gallery contains images for remaining 30 food types"
   ]
  },
  {
   "cell_type": "code",
   "execution_count": 3,
   "metadata": {},
   "outputs": [],
   "source": [
    "root_old = Path('./food-101/images')\n",
    "num_images = 20\n",
    "train_split = 70\n",
    "\n",
    "dcount = 0\n",
    "for dir in root_old.iterdir():\n",
    "    fcount = 0\n",
    "    for file in dir.rglob(\"*.jpg\"):\n",
    "        src = file\n",
    "        if dcount < train_split:\n",
    "            dtgt = './food-101-small/Train/' + str(dir.name)\n",
    "            ftgt = './food-101-small/Train/' + str(dir.name) + '/' + str(file.name)\n",
    "        else:\n",
    "            dtgt = './food-101-small/Gallery/' + str(dir.name)\n",
    "            ftgt = './food-101-small/Gallery/' + str(dir.name) + '/' + str(file.name)\n",
    "        tgt = Path(ftgt)\n",
    "        tdir = Path(dtgt)\n",
    "        if not tdir.exists():\n",
    "            tdir.mkdir(parents=True, exist_ok=False)\n",
    "        copy(src, tgt)\n",
    "        fcount = fcount + 1\n",
    "        if fcount == num_images:\n",
    "            break\n",
    "    for file in dir.rglob(\"*.wav\"):\n",
    "        src = file\n",
    "        if dcount < train_split:\n",
    "            dtgt = './food-101-small/Train/' + str(dir.name)\n",
    "            ftgt = './food-101-small/Train/' + str(dir.name) + '/' + str(file.name)\n",
    "        else:\n",
    "            dtgt = './food-101-small/Probe/' + str(dir.name)\n",
    "            ftgt = './food-101-small/Probe/' + str(dir.name) + '/' + str(file.name)\n",
    "        tgt = Path(ftgt)\n",
    "        tdir = Path(dtgt)\n",
    "        if not tdir.exists():\n",
    "            tdir.mkdir(parents=True, exist_ok=False)\n",
    "        copy(src, tgt)\n",
    "    dcount = dcount + 1"
   ]
  },
  {
   "cell_type": "code",
   "execution_count": null,
   "metadata": {},
   "outputs": [],
   "source": []
  }
 ],
 "metadata": {
  "kernelspec": {
   "display_name": "Python 3",
   "language": "python",
   "name": "python3"
  },
  "language_info": {
   "codemirror_mode": {
    "name": "ipython",
    "version": 3
   },
   "file_extension": ".py",
   "mimetype": "text/x-python",
   "name": "python",
   "nbconvert_exporter": "python",
   "pygments_lexer": "ipython3",
   "version": "3.7.4"
  }
 },
 "nbformat": 4,
 "nbformat_minor": 5
}
