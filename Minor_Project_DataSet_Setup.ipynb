{
 "cells": [
  {
   "cell_type": "code",
   "execution_count": 1,
   "id": "55e789c3-bb91-44d7-9f52-8d3fa71f0a67",
   "metadata": {},
   "outputs": [],
   "source": [
    "from pathlib import Path\n",
    "from shutil import copy"
   ]
  },
  {
   "cell_type": "markdown",
   "id": "0c0a41f5-46c0-458c-8420-31b3f984082a",
   "metadata": {},
   "source": [
    "### Created Train, Probe and Gallery Folders"
   ]
  },
  {
   "cell_type": "code",
   "execution_count": 2,
   "id": "2bb3d86a-52fb-4b18-a11c-e434902e21d0",
   "metadata": {},
   "outputs": [],
   "source": [
    "!mkdir ./food-101-small/Train\n",
    "!mkdir ./food-101-small/Probe\n",
    "!mkdir ./food-101-small/Gallery"
   ]
  },
  {
   "cell_type": "markdown",
   "id": "c900a95c-bab4-4835-bd62-85e12391b75f",
   "metadata": {},
   "source": [
    "### Split the dataset into Train, Probe and Gallery\n",
    "- Train contains 70 folders having respective food images & audio files\n",
    "- Probe contains audio files for remaining 30 food types\n",
    "- Gallery contains images for remaining 30 food types"
   ]
  },
  {
   "cell_type": "code",
   "execution_count": 3,
   "id": "5a4d0436-9b1c-4aa5-9309-195a071ae073",
   "metadata": {},
   "outputs": [],
   "source": [
    "root_old = Path('./food-101/images')\n",
    "num_images = 20\n",
    "train_split = 70\n",
    "\n",
    "dcount = 0\n",
    "for dir in root_old.iterdir():\n",
    "    fcount = 0\n",
    "    for file in dir.rglob(\"*.jpg\"):\n",
    "        src = file\n",
    "        if dcount < train_split:\n",
    "            dtgt = './food-101-small/Train/' + str(dir.name)\n",
    "            ftgt = './food-101-small/Train/' + str(dir.name) + '/' + str(file.name)\n",
    "        else:\n",
    "            dtgt = './food-101-small/Gallery/' + str(dir.name)\n",
    "            ftgt = './food-101-small/Gallery/' + str(dir.name) + '/' + str(file.name)\n",
    "        tgt = Path(ftgt)\n",
    "        tdir = Path(dtgt)\n",
    "        if not tdir.exists():\n",
    "            tdir.mkdir(parents=True, exist_ok=False)\n",
    "        copy(src, tgt)\n",
    "        fcount = fcount + 1\n",
    "        if fcount == num_images:\n",
    "            break\n",
    "    for file in dir.rglob(\"*.wav\"):\n",
    "        src = file\n",
    "        if dcount < train_split:\n",
    "            dtgt = './food-101-small/Train/' + str(dir.name)\n",
    "            ftgt = './food-101-small/Train/' + str(dir.name) + '/' + str(file.name)\n",
    "        else:\n",
    "            dtgt = './food-101-small/Probe/' + str(dir.name)\n",
    "            ftgt = './food-101-small/Probe/' + str(dir.name) + '/' + str(file.name)\n",
    "        tgt = Path(ftgt)\n",
    "        tdir = Path(dtgt)\n",
    "        if not tdir.exists():\n",
    "            tdir.mkdir(parents=True, exist_ok=False)\n",
    "        copy(src, tgt)\n",
    "    dcount = dcount + 1"
   ]
  },
  {
   "cell_type": "code",
   "execution_count": null,
   "id": "322a090d-4325-4948-baec-ba2a21ce1ad2",
   "metadata": {},
   "outputs": [],
   "source": []
  }
 ],
 "metadata": {
  "kernelspec": {
   "display_name": "Python 3 (ipykernel)",
   "language": "python",
   "name": "python3"
  },
  "language_info": {
   "codemirror_mode": {
    "name": "ipython",
    "version": 3
   },
   "file_extension": ".py",
   "mimetype": "text/x-python",
   "name": "python",
   "nbconvert_exporter": "python",
   "pygments_lexer": "ipython3",
   "version": "3.11.7"
  }
 },
 "nbformat": 4,
 "nbformat_minor": 5
}
